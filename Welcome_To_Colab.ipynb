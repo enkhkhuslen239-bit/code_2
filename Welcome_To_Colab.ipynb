{
  "cells": [
    {
      "cell_type": "markdown",
      "metadata": {
        "id": "view-in-github",
        "colab_type": "text"
      },
      "source": [
        "<a href=\"https://colab.research.google.com/github/enkhkhuslen239-bit/code_2/blob/main/Welcome_To_Colab.ipynb\" target=\"_parent\"><img src=\"https://colab.research.google.com/assets/colab-badge.svg\" alt=\"Open In Colab\"/></a>"
      ]
    },
    {
      "cell_type": "code",
      "source": [
        "alim = 12000\n",
        "talh = 3000\n",
        "suu = 5000\n",
        "niit = alim + talh + suu\n",
        "print(\"niit une:\" , niit, \"$\")"
      ],
      "metadata": {
        "colab": {
          "base_uri": "https://localhost:8080/"
        },
        "id": "0IDWLx2OBQrQ",
        "outputId": "78a131f0-6bdf-4372-ef90-bfd17b9203cc"
      },
      "execution_count": 3,
      "outputs": [
        {
          "output_type": "stream",
          "name": "stdout",
          "text": [
            "niit une: 20000 $\n"
          ]
        }
      ]
    },
    {
      "cell_type": "code",
      "source": [
        "pizik = 50\n",
        "mat = 90\n",
        "dizain = 85\n",
        "himi = 60\n",
        "tamir = 70\n",
        "dundaj = pizik + mat + dizain + himi + tamir\n",
        "print(\"hicheeliin dundaj:\" , dundaj /5)\n"
      ],
      "metadata": {
        "colab": {
          "base_uri": "https://localhost:8080/"
        },
        "id": "BQiI4mbODJB-",
        "outputId": "07193be3-edba-48a7-9e13-89af0e617ce4"
      },
      "execution_count": 8,
      "outputs": [
        {
          "output_type": "stream",
          "name": "stdout",
          "text": [
            "hicheeliin dundaj: 71.0\n"
          ]
        }
      ]
    },
    {
      "cell_type": "code",
      "source": [
        "odoo = 2025\n",
        "tursun = 2009\n",
        "nas = odoo - tursun\n",
        "print(\"minii nas:\" , nas ,)"
      ],
      "metadata": {
        "colab": {
          "base_uri": "https://localhost:8080/"
        },
        "id": "TulkSlMHFUch",
        "outputId": "0de784f9-1595-4857-d5ce-ab6784e8b4c5"
      },
      "execution_count": 10,
      "outputs": [
        {
          "output_type": "stream",
          "name": "stdout",
          "text": [
            "minii nas: 16\n"
          ]
        }
      ]
    },
    {
      "cell_type": "code",
      "source": [
        "jin = 50\n",
        "undur = 1.63\n",
        "BMI = jin / undur**2\n",
        "print(\"minii BMI:\", BMI)"
      ],
      "metadata": {
        "colab": {
          "base_uri": "https://localhost:8080/"
        },
        "id": "OziauTcrGQ3J",
        "outputId": "4eab1000-c01f-4e58-ad9d-a0a096171535"
      },
      "execution_count": 14,
      "outputs": [
        {
          "output_type": "stream",
          "name": "stdout",
          "text": [
            "minii BMI: 18.818924310286427\n"
          ]
        }
      ]
    },
    {
      "cell_type": "code",
      "source": [
        "neg_sav = 1,5\n",
        "niit_sav = 15\n",
        "niit_litr = neg_sav * niit_sav\n",
        "print(\"niit:\", niit_litr , \"litr us\")"
      ],
      "metadata": {
        "colab": {
          "base_uri": "https://localhost:8080/"
        },
        "id": "PjWC-dytHXzP",
        "outputId": "68d7f5f9-8349-4317-e1e6-450626569b2c"
      },
      "execution_count": 19,
      "outputs": [
        {
          "output_type": "stream",
          "name": "stdout",
          "text": [
            "niit: (1, 5, 1, 5, 1, 5, 1, 5, 1, 5, 1, 5, 1, 5, 1, 5, 1, 5, 1, 5, 1, 5, 1, 5, 1, 5, 1, 5, 1, 5) litr us\n"
          ]
        }
      ]
    }
  ],
  "metadata": {
    "colab": {
      "name": "Welcome To Colab",
      "provenance": [],
      "include_colab_link": true
    },
    "kernelspec": {
      "display_name": "Python 3",
      "name": "python3"
    }
  },
  "nbformat": 4,
  "nbformat_minor": 0
}